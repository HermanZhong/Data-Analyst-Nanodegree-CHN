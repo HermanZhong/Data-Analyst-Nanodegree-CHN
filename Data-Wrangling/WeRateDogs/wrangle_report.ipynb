{
 "cells": [
  {
   "cell_type": "markdown",
   "metadata": {},
   "source": [
    "# WeRateDogs推特数据整理报告"
   ]
  },
  {
   "cell_type": "markdown",
   "metadata": {},
   "source": [
    "## 项目综述"
   ]
  },
  {
   "cell_type": "markdown",
   "metadata": {},
   "source": [
    "WeRateDogs是一个推特主，他以诙谐幽默的方式对人们的宠物狗评分。我们的目标是清洗WeRateDog的推特数据，为后续的分析和可视化提供可靠的数据。\n",
    "\n",
    "需要清洗整理的数据有三份：\n",
    "\n",
    "**WeRateDogs的推特档案**\n",
    "\n",
    "本项目中的WeRateDogs的推特档案数据是从原始提供的5000多条推特中筛选了2356条包含评分的推特，并提取了基本信息。原始档案中有一列包含每个推特的文本，项目前期利用这一列数据提取了评分、狗的名字和“地位”（即doggo、floofer、pupper和puppo）。\n",
    "\n",
    "项目前期采用编程方式提取了这些数据，但是并没有做好。评分并不都是正确的。狗的名字和地位也有不正确的。需要重新评估和清洗这些数据。\n",
    "\n",
    "**通过推特API获取附加数据**\n",
    "\n",
    "WeRateDogs的推特档案遗漏了两个关键数据：转发数（retweet count）和喜爱数（favorite count），因此需要从推特API中重新收集这部分数据。\n",
    "\n",
    "因为无法访问Twitter，所以在本项目中提供替代方案：一份已采集好的Twitter数据。\n",
    "\n",
    "**图像预测数据**\n",
    "\n",
    "通过一个可以对狗狗种类进行分类的神经网络，运行这份推特档案中的所有图像，获得了一份图像预测结果表格。其中包含了预测结果的前三名，推特ID，图像url以及最可信的预测结果对应的图像编号（由于推特最多包含4个图片，所以编号为1到4）。\n",
    "\n",
    "从推特中可以看到，对图像的一号预测（p1）是准确最高的。"
   ]
  },
  {
   "cell_type": "markdown",
   "metadata": {},
   "source": [
    "## 数据整理\n",
    "\n",
    "### 收集数据\n",
    "\n",
    "**WeRateDogs的推特档案**\n",
    "\n",
    "这个数据文件是项目直接提供的，可以将其当作是“资料来源：手头文件”来收集。\n",
    "\n",
    "**通过推特API获取附加数据** \n",
    "\n",
    "因无法访问Twitter，采用项目提供的已采集好的Twitter数据，该文件为txt格式，每一行为一条独立的twitter信息，格式为JSON。\n",
    "\n",
    "**推特图像的预测数据**\n",
    "\n",
    "这个数据文件可以当作是“资料来源：互联网文件下载”来收集，需要使用Python的Requests库和项目提供的URL来进行编程下载。"
   ]
  },
  {
   "cell_type": "markdown",
   "metadata": {},
   "source": [
    "### 评估数据\n",
    "\n",
    "#### 质量问题\n",
    "\n",
    "**WeRoteDog 推特档案**\n",
    "- 狗狗的名字清洗有问题，有大量狗狗的名字为\"None\"，甚至部分狗狗名字为\"a\"、\"an\"、\"the\"等\n",
    "- 缺少转发数（retweet_count）和喜欢数（favorite_count）\n",
    "- 包含有181条转发数据\n",
    "- 狗狗的评分，分子清洗有问题，查看\"rating_numerator\"维度，发现分子最小0分，最大1776分\n",
    "- 狗狗的评分，分母清洗有问题，查看\"rating_denominator\"维度，发现分母最小0分，最大170分\n",
    "- 包含有 2017年8月1日之后的数据（2条）\n",
    "\n",
    "**推特图片预测数据**\n",
    "- 缺失部分数据（WeRoteDog推特档案2356条，推特图片预测数据2075条）\n",
    "\n",
    "**Twitter API的附加数据**\n",
    "- 推特ID命名不规范（是\"id\"而不是\"tweet_id\"）\n",
    "- 包含有177条转发数据（\"retweeted_status\"有177条非空记录）\n",
    "- 包含有2017年8月1日之后的数据（2条）\n",
    "\n",
    "#### 格式问题\n",
    "**WeRoteDog 推特档案**\n",
    "- 狗狗的“地位”评级数据分散多列\n",
    "- 推特发布时间戳“timestamp”的类型不是时间类型\n"
   ]
  },
  {
   "cell_type": "markdown",
   "metadata": {},
   "source": [
    "### 清洗数据\n",
    "\n",
    "**Twitter API的附加数据**\n",
    "- 删除2017年8月1日之后的数据\n",
    "- 删除转发的数据\n",
    "- 提取感兴趣的字段【推特档案编号（id）、转发数（retweet count）和喜爱数（favorite count）】\n",
    "- 规范列名\n",
    "\n",
    "**推特图片预测数据**\n",
    "- 提取图片是狗狗的数据\n",
    "- 提取感兴趣的字段【推特档案编号（tweet_id）、预测的狗狗种类（p1）】\n",
    "- 修改列名\n",
    "\n",
    "**WeRoteDog 推特档案**\n",
    "- 修正错误的数据类型（推特发布时间戳“timestamp”的类型不是时间类型）\n",
    "- 删除2017年8月1日之后的数据\n",
    "- 删除转发的数据\n",
    "- 删除不是狗狗的数据（通过与清洗好的推特图片预测数据集合并数据集的方式）\n",
    "- 重新提取狗狗的名字\n",
    "- 重新提取狗狗的评分\n",
    "- 重新提取狗狗的“地位”评级\n",
    "- 提取感兴趣的字段【推特档案编号（tweet_id）, 时间戳（timestamp）,狗狗的种类（dog_type）,新提取的狗狗名字（new_name）,新提取的狗狗评分（new_rating）,新提取的狗狗地位（new_stages）】\n",
    "- 修改列名"
   ]
  },
  {
   "cell_type": "markdown",
   "metadata": {},
   "source": [
    "### 合并数据集\n",
    "将清洗干净的\"Twitter API的附加数据\"和\"WeRoteDog 推特档案\"（已经和\"推特图片预测数据\"合并）进行合并，为后续的分析和可视化提供清洗干净的主数据集"
   ]
  },
  {
   "cell_type": "code",
   "execution_count": null,
   "metadata": {
    "collapsed": true
   },
   "outputs": [],
   "source": []
  }
 ],
 "metadata": {
  "kernelspec": {
   "display_name": "Python [conda env:python3]",
   "language": "python",
   "name": "conda-env-python3-py"
  },
  "language_info": {
   "codemirror_mode": {
    "name": "ipython",
    "version": 3
   },
   "file_extension": ".py",
   "mimetype": "text/x-python",
   "name": "python",
   "nbconvert_exporter": "python",
   "pygments_lexer": "ipython3",
   "version": "3.6.1"
  },
  "toc": {
   "base_numbering": 1,
   "nav_menu": {},
   "number_sections": true,
   "sideBar": true,
   "skip_h1_title": false,
   "title_cell": "Table of Contents",
   "title_sidebar": "Contents",
   "toc_cell": false,
   "toc_position": {},
   "toc_section_display": true,
   "toc_window_display": false
  }
 },
 "nbformat": 4,
 "nbformat_minor": 2
}
